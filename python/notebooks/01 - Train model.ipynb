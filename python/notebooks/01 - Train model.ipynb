{
 "cells": [
  {
   "cell_type": "code",
   "execution_count": 23,
   "metadata": {},
   "outputs": [],
   "source": [
    "import tensorflow as tf\n",
    "import tensorflowjs as tfjs\n",
    "from tensorflow import keras\n",
    "import numpy as np\n",
    "import json\n",
    "import math\n",
    "import inspect\n",
    "import matplotlib.pyplot as plt\n",
    "import pandas as pd"
   ]
  },
  {
   "cell_type": "code",
   "execution_count": 24,
   "metadata": {},
   "outputs": [],
   "source": [
    "def get_color_labels_dict():\n",
    "    return {\n",
    "        \"bad\": 0,\n",
    "        \"good\": 1,\n",
    "    }\n",
    "\n",
    "target_names = np.array(list(get_color_labels_dict().keys()))\n",
    "\n",
    "def get_target_name(index):\n",
    "    return target_names[index]\n",
    "\n",
    "def encode_color_labels_as_int(labels):\n",
    "    labels_dict = get_color_labels_dict()\n",
    "    breakpoint()\n",
    "    return list(map(lambda label: labels_dict[label], labels))\n",
    "\n",
    "def get_rgb_values(color):\n",
    "    rgb_array = [color['red'], color['green'], color['blue']]\n",
    "    return rgb_array\n",
    "\n",
    "def get_color_label(color):\n",
    "    return color[\"label\"]\n",
    "\n",
    "def load_json():\n",
    "    path = \"../data/labeled-colors-1015.json\"\n",
    "\n",
    "    with open(path) as json_file:\n",
    "        json_str = json_file.read()\n",
    "\n",
    "    return json.loads(json_str)\n",
    "\n",
    "def prep_data(data):\n",
    "    rgb_list = list(map(get_rgb_values, data))\n",
    "    labels_as_int = list(map(get_color_label, data))\n",
    "#     labels_as_int = encode_color_labels_as_int(labels_as_string)\n",
    "    \n",
    "    rgb_ndarray = np.array(rgb_list)\n",
    "    labels_ndarray = np.array(labels_as_int)\n",
    "    \n",
    "    return (rgb_ndarray, labels_ndarray)\n",
    "\n",
    "def load_data():\n",
    "    colors_array = load_json()\n",
    "    prepped_data = prep_data(colors_array)\n",
    "    return prepped_data\n",
    "\n",
    "# Plot a grid of individual colors from the dataset\n",
    "# The colors won’t be labeled\n",
    "# I tried using annotate to label the colors, but positioning the labels was tedious\n",
    "def plot_colors(one_hundred_colors):\n",
    "    plt.figure(figsize=(12, 12), facecolor=\"black\", tight_layout=True)\n",
    "    # We reshape the colors into a square, so we need to know the size of the passed argument ahead of time...\n",
    "    # That’s why it’s called one_hundred_colors\n",
    "    plt.imshow(one_hundred_colors.reshape(10, 10, 3))\n",
    "    plt.axis(\"off\")\n",
    "    plt.annotate('Test', xy=(0.9, 0.0), xycoords=\"axes fraction\")\n",
    "    \n",
    "# Plot a bunch of colors from the dataset, and their labels\n",
    "def plot_train_data(X, y, start=0, count=24):\n",
    "    max_count = min(count, X.shape[0])\n",
    "    \n",
    "    n_cols = 8\n",
    "    n_rows = math.ceil(max_count / n_cols)\n",
    "    plt.figure(figsize=(n_cols * 2, n_rows * 2))\n",
    "    for row in range(n_rows):\n",
    "        for col in range(n_cols):\n",
    "            index = n_cols * row + col\n",
    "            \n",
    "            # Stop plotting if you reached the desired count\n",
    "            if (index == max_count):\n",
    "                return\n",
    "            \n",
    "            plt.subplot(n_rows, n_cols, index + 1)\n",
    "            \n",
    "#             breakpoint()\n",
    "            data_index = start + index\n",
    "            \n",
    "            color = X[data_index, :]\n",
    "            color = color[np.newaxis, :]\n",
    "            \n",
    "            # You need this reshaping to get a 1x1 image with 3 channels\n",
    "            # Otherwise you’d get 3 pixels side by side\n",
    "            color = color.reshape(1, 1, 3)\n",
    "            \n",
    "            target_name = get_target_name(y[data_index])\n",
    "            \n",
    "            plt.imshow(color)\n",
    "            plt.axis('off')\n",
    "            plt.title(target_name, fontsize=12)\n",
    "    plt.subplots_adjust(wspace=0.2, hspace=0.5)\n",
    "    plt.show()\n",
    "    \n",
    "def shuffle(array):\n",
    "    rng = np.random.default_rng()\n",
    "    array_copy = array.copy()\n",
    "    return rng.shuffle(array_copy)\n",
    "\n",
    "def split_train_test_valid(data, test_size=0.3, valid_size=0.1):\n",
    "    total_count = data.shape[0]\n",
    "    \n",
    "    test_count = math.floor(total_count * test_size)\n",
    "    valid_count = math.floor(total_count * valid_size)\n",
    "    train_count = total_count - test_count - valid_count\n",
    "    \n",
    "    train = data[:train_count, :]\n",
    "    \n",
    "    valid_start_index = train_count\n",
    "    valid_end_index = valid_start_index + valid_count\n",
    "    valid = data[valid_start_index:valid_end_index, :]\n",
    "    \n",
    "    test_start_index = valid_end_index\n",
    "    test = data[test_start_index:, :]\n",
    "    \n",
    "    return (train, valid, test)"
   ]
  },
  {
   "cell_type": "code",
   "execution_count": 25,
   "metadata": {},
   "outputs": [
    {
     "name": "stdout",
     "output_type": "stream",
     "text": [
      "(610, 3) (101, 3) (304, 3)\n",
      "(610, 1) (101, 1) (304, 1)\n"
     ]
    }
   ],
   "source": [
    "X, y = load_data()\n",
    "\n",
    "np.save(\"../data/data_X\", X, allow_pickle=True)\n",
    "np.save(\"../data/data_y\", y, allow_pickle=True)\n",
    "\n",
    "X_train, X_valid, X_test = split_train_test_valid(X)\n",
    "y_train, y_valid, y_test = split_train_test_valid(y[:, np.newaxis])\n",
    "print(X_train.shape, X_valid.shape, X_test.shape)\n",
    "print(y_train.shape, y_valid.shape, y_test.shape)"
   ]
  },
  {
   "cell_type": "code",
   "execution_count": 26,
   "metadata": {},
   "outputs": [
    {
     "data": {
      "image/png": "[encoded data removed]",
      "text/plain": [
       "<Figure size 1152x432 with 24 Axes>"
      ]
     },
     "metadata": {
      "needs_background": "light"
     },
     "output_type": "display_data"
    }
   ],
   "source": [
    "plot_train_data(X_valid, y_valid, start=0)"
   ]
  },
  {
   "cell_type": "code",
   "execution_count": 27,
   "metadata": {},
   "outputs": [],
   "source": [
    "keras.backend.clear_session()\n",
    "np.random.seed(42)\n",
    "tf.random.set_seed(42)\n",
    "\n",
    "model = keras.models.Sequential([\n",
    "    keras.layers.Dense(300, activation=\"relu\", input_shape=[3]),\n",
    "    keras.layers.Dense(100, activation=\"relu\"),\n",
    "    keras.layers.Dense(2, activation=\"softmax\")\n",
    "])\n",
    "\n",
    "model.compile(loss=\"sparse_categorical_crossentropy\",\n",
    "              optimizer=\"sgd\",\n",
    "              metrics=[\"accuracy\"])"
   ]
  },
  {
   "cell_type": "code",
   "execution_count": 28,
   "metadata": {},
   "outputs": [
    {
     "name": "stdout",
     "output_type": "stream",
     "text": [
      "Model: \"sequential\"\n",
      "_________________________________________________________________\n",
      "Layer (type)                 Output Shape              Param #   \n",
      "=================================================================\n",
      "dense (Dense)                (None, 300)               1200      \n",
      "_________________________________________________________________\n",
      "dense_1 (Dense)              (None, 100)               30100     \n",
      "_________________________________________________________________\n",
      "dense_2 (Dense)              (None, 2)                 202       \n",
      "=================================================================\n",
      "Total params: 31,502\n",
      "Trainable params: 31,502\n",
      "Non-trainable params: 0\n",
      "_________________________________________________________________\n"
     ]
    }
   ],
   "source": [
    "model.summary()"
   ]
  },
  {
   "cell_type": "code",
   "execution_count": 29,
   "metadata": {},
   "outputs": [
    {
     "name": "stdout",
     "output_type": "stream",
     "text": [
      "Epoch 1/300\n",
      "20/20 [==============================] - 0s 6ms/step - loss: 17.5806 - accuracy: 0.6689 - val_loss: 1.2229 - val_accuracy: 0.5743\n",
      "Epoch 2/300\n",
      "20/20 [==============================] - 0s 2ms/step - loss: 0.5678 - accuracy: 0.7279 - val_loss: 1.4306 - val_accuracy: 0.5842\n",
      "Epoch 3/300\n",
      "20/20 [==============================] - 0s 2ms/step - loss: 0.7503 - accuracy: 0.7000 - val_loss: 2.7371 - val_accuracy: 0.5347\n",
      "Epoch 4/300\n",
      "20/20 [==============================] - 0s 2ms/step - loss: 0.6517 - accuracy: 0.6869 - val_loss: 0.5390 - val_accuracy: 0.7030\n",
      "Epoch 5/300\n",
      "20/20 [==============================] - 0s 2ms/step - loss: 0.5201 - accuracy: 0.7311 - val_loss: 0.5645 - val_accuracy: 0.6436\n",
      "Epoch 6/300\n",
      "20/20 [==============================] - 0s 2ms/step - loss: 0.5307 - accuracy: 0.7279 - val_loss: 0.6593 - val_accuracy: 0.6139\n",
      "Epoch 7/300\n",
      "20/20 [==============================] - 0s 2ms/step - loss: 0.5026 - accuracy: 0.7311 - val_loss: 1.4797 - val_accuracy: 0.5347\n",
      "Epoch 8/300\n",
      "20/20 [==============================] - 0s 2ms/step - loss: 0.5419 - accuracy: 0.7180 - val_loss: 0.9365 - val_accuracy: 0.5941\n",
      "Epoch 9/300\n",
      "20/20 [==============================] - 0s 2ms/step - loss: 0.5209 - accuracy: 0.7311 - val_loss: 0.7187 - val_accuracy: 0.6535\n",
      "Epoch 10/300\n",
      "20/20 [==============================] - 0s 2ms/step - loss: 0.5399 - accuracy: 0.7443 - val_loss: 0.7234 - val_accuracy: 0.6535\n",
      "Epoch 11/300\n",
      "20/20 [==============================] - 0s 2ms/step - loss: 0.5091 - accuracy: 0.7459 - val_loss: 0.6198 - val_accuracy: 0.6535\n",
      "Epoch 12/300\n",
      "20/20 [==============================] - 0s 2ms/step - loss: 0.4970 - accuracy: 0.7607 - val_loss: 0.6548 - val_accuracy: 0.6436\n",
      "Epoch 13/300\n",
      "20/20 [==============================] - 0s 2ms/step - loss: 0.5372 - accuracy: 0.7393 - val_loss: 0.5602 - val_accuracy: 0.6733\n",
      "Epoch 14/300\n",
      "20/20 [==============================] - 0s 2ms/step - loss: 0.4915 - accuracy: 0.7492 - val_loss: 0.5617 - val_accuracy: 0.7129\n",
      "Epoch 15/300\n",
      "20/20 [==============================] - 0s 2ms/step - loss: 0.4975 - accuracy: 0.7574 - val_loss: 0.7039 - val_accuracy: 0.6733\n",
      "Epoch 16/300\n",
      "20/20 [==============================] - 0s 2ms/step - loss: 0.5214 - accuracy: 0.7393 - val_loss: 1.1126 - val_accuracy: 0.5347\n",
      "Epoch 17/300\n",
      "20/20 [==============================] - 0s 2ms/step - loss: 0.5655 - accuracy: 0.7377 - val_loss: 0.5599 - val_accuracy: 0.7129\n",
      "Epoch 18/300\n",
      "20/20 [==============================] - 0s 2ms/step - loss: 0.4992 - accuracy: 0.7607 - val_loss: 0.6296 - val_accuracy: 0.6436\n",
      "Epoch 19/300\n",
      "20/20 [==============================] - 0s 2ms/step - loss: 0.5047 - accuracy: 0.7426 - val_loss: 0.6851 - val_accuracy: 0.5941\n",
      "Epoch 20/300\n",
      "20/20 [==============================] - 0s 2ms/step - loss: 0.5183 - accuracy: 0.7410 - val_loss: 0.7697 - val_accuracy: 0.5941\n",
      "Epoch 21/300\n",
      "20/20 [==============================] - 0s 2ms/step - loss: 0.5083 - accuracy: 0.7410 - val_loss: 0.6439 - val_accuracy: 0.6733\n",
      "Epoch 22/300\n",
      "20/20 [==============================] - 0s 2ms/step - loss: 0.5061 - accuracy: 0.7492 - val_loss: 0.5080 - val_accuracy: 0.7426\n",
      "Epoch 23/300\n",
      "20/20 [==============================] - 0s 2ms/step - loss: 0.4957 - accuracy: 0.7443 - val_loss: 0.4959 - val_accuracy: 0.7624\n",
      "Epoch 24/300\n",
      "20/20 [==============================] - 0s 2ms/step - loss: 0.4906 - accuracy: 0.7475 - val_loss: 0.5408 - val_accuracy: 0.6733\n",
      "Epoch 25/300\n",
      "20/20 [==============================] - 0s 2ms/step - loss: 0.4912 - accuracy: 0.7475 - val_loss: 0.5232 - val_accuracy: 0.7129\n",
      "Epoch 26/300\n",
      "20/20 [==============================] - 0s 2ms/step - loss: 0.4937 - accuracy: 0.7361 - val_loss: 0.5462 - val_accuracy: 0.7327\n",
      "Epoch 27/300\n",
      "20/20 [==============================] - 0s 2ms/step - loss: 0.4849 - accuracy: 0.7705 - val_loss: 0.5221 - val_accuracy: 0.7030\n",
      "Epoch 28/300\n",
      "20/20 [==============================] - 0s 2ms/step - loss: 0.4937 - accuracy: 0.7557 - val_loss: 1.1081 - val_accuracy: 0.5347\n",
      "Epoch 29/300\n",
      "20/20 [==============================] - 0s 2ms/step - loss: 0.5410 - accuracy: 0.7508 - val_loss: 0.5289 - val_accuracy: 0.7129\n",
      "Epoch 30/300\n",
      "20/20 [==============================] - 0s 2ms/step - loss: 0.4850 - accuracy: 0.7508 - val_loss: 0.6432 - val_accuracy: 0.6535\n",
      "Epoch 31/300\n",
      "20/20 [==============================] - 0s 2ms/step - loss: 0.4839 - accuracy: 0.7623 - val_loss: 0.6140 - val_accuracy: 0.7030\n",
      "Epoch 32/300\n",
      "20/20 [==============================] - 0s 2ms/step - loss: 0.5028 - accuracy: 0.7738 - val_loss: 0.7451 - val_accuracy: 0.6139\n",
      "Epoch 33/300\n",
      "20/20 [==============================] - 0s 2ms/step - loss: 0.5019 - accuracy: 0.7590 - val_loss: 0.5066 - val_accuracy: 0.7030\n",
      "Epoch 34/300\n",
      "20/20 [==============================] - 0s 2ms/step - loss: 0.4917 - accuracy: 0.7443 - val_loss: 0.5668 - val_accuracy: 0.7327\n",
      "Epoch 35/300\n",
      "20/20 [==============================] - 0s 2ms/step - loss: 0.4946 - accuracy: 0.7770 - val_loss: 0.5495 - val_accuracy: 0.7327\n",
      "Epoch 36/300\n",
      "20/20 [==============================] - 0s 2ms/step - loss: 0.4771 - accuracy: 0.7705 - val_loss: 0.5566 - val_accuracy: 0.7624\n",
      "Epoch 37/300\n",
      "20/20 [==============================] - 0s 2ms/step - loss: 0.4817 - accuracy: 0.7672 - val_loss: 0.5237 - val_accuracy: 0.7129\n",
      "Epoch 38/300\n",
      "20/20 [==============================] - 0s 2ms/step - loss: 0.4709 - accuracy: 0.7623 - val_loss: 0.5299 - val_accuracy: 0.7228\n",
      "Epoch 39/300\n",
      "20/20 [==============================] - 0s 2ms/step - loss: 0.4678 - accuracy: 0.7607 - val_loss: 0.5043 - val_accuracy: 0.7129\n",
      "Epoch 40/300\n",
      "20/20 [==============================] - 0s 2ms/step - loss: 0.4839 - accuracy: 0.7557 - val_loss: 0.5891 - val_accuracy: 0.6535\n",
      "Epoch 41/300\n",
      "20/20 [==============================] - 0s 2ms/step - loss: 0.4749 - accuracy: 0.7705 - val_loss: 0.5364 - val_accuracy: 0.7129\n",
      "Epoch 42/300\n",
      "20/20 [==============================] - 0s 2ms/step - loss: 0.4843 - accuracy: 0.7721 - val_loss: 0.5591 - val_accuracy: 0.7129\n",
      "Epoch 43/300\n",
      "20/20 [==============================] - 0s 2ms/step - loss: 0.4711 - accuracy: 0.7672 - val_loss: 0.5937 - val_accuracy: 0.7030\n",
      "Epoch 44/300\n",
      "20/20 [==============================] - 0s 2ms/step - loss: 0.4695 - accuracy: 0.7623 - val_loss: 0.6918 - val_accuracy: 0.6832\n",
      "Epoch 45/300\n",
      "20/20 [==============================] - 0s 2ms/step - loss: 0.4736 - accuracy: 0.7639 - val_loss: 0.7227 - val_accuracy: 0.6535\n",
      "Epoch 46/300\n",
      "20/20 [==============================] - 0s 2ms/step - loss: 0.5089 - accuracy: 0.7492 - val_loss: 0.7415 - val_accuracy: 0.6535\n",
      "Epoch 47/300\n",
      "20/20 [==============================] - 0s 2ms/step - loss: 0.4873 - accuracy: 0.7574 - val_loss: 0.5718 - val_accuracy: 0.7426\n",
      "Epoch 48/300\n",
      "20/20 [==============================] - 0s 2ms/step - loss: 0.4778 - accuracy: 0.7656 - val_loss: 0.7699 - val_accuracy: 0.6931\n",
      "Epoch 49/300\n",
      "20/20 [==============================] - 0s 2ms/step - loss: 0.5312 - accuracy: 0.7590 - val_loss: 0.5907 - val_accuracy: 0.6832\n",
      "Epoch 50/300\n",
      "20/20 [==============================] - 0s 2ms/step - loss: 0.4875 - accuracy: 0.7623 - val_loss: 1.1285 - val_accuracy: 0.6139\n",
      "Epoch 51/300\n",
      "20/20 [==============================] - 0s 2ms/step - loss: 0.5614 - accuracy: 0.7295 - val_loss: 0.7716 - val_accuracy: 0.5743\n",
      "Epoch 52/300\n",
      "20/20 [==============================] - 0s 2ms/step - loss: 0.5199 - accuracy: 0.7541 - val_loss: 0.5788 - val_accuracy: 0.6535\n",
      "Epoch 53/300\n",
      "20/20 [==============================] - 0s 2ms/step - loss: 0.4793 - accuracy: 0.7672 - val_loss: 0.5757 - val_accuracy: 0.6931\n",
      "Epoch 54/300\n",
      "20/20 [==============================] - 0s 2ms/step - loss: 0.4963 - accuracy: 0.7574 - val_loss: 0.5163 - val_accuracy: 0.7525\n",
      "Epoch 55/300\n",
      "20/20 [==============================] - 0s 2ms/step - loss: 0.4768 - accuracy: 0.7656 - val_loss: 0.8144 - val_accuracy: 0.6634\n",
      "Epoch 56/300\n",
      "20/20 [==============================] - 0s 2ms/step - loss: 0.4948 - accuracy: 0.7590 - val_loss: 0.4716 - val_accuracy: 0.7624\n",
      "Epoch 57/300\n",
      "20/20 [==============================] - 0s 2ms/step - loss: 0.4696 - accuracy: 0.7689 - val_loss: 0.9040 - val_accuracy: 0.6337\n",
      "Epoch 58/300\n",
      "20/20 [==============================] - 0s 2ms/step - loss: 0.4950 - accuracy: 0.7492 - val_loss: 0.5291 - val_accuracy: 0.7030\n"
     ]
    },
    {
     "name": "stdout",
     "output_type": "stream",
     "text": [
      "Epoch 59/300\n",
      "20/20 [==============================] - 0s 2ms/step - loss: 0.4736 - accuracy: 0.7705 - val_loss: 0.6018 - val_accuracy: 0.7030\n",
      "Epoch 60/300\n",
      "20/20 [==============================] - 0s 2ms/step - loss: 0.5041 - accuracy: 0.7590 - val_loss: 0.7405 - val_accuracy: 0.6337\n",
      "Epoch 61/300\n",
      "20/20 [==============================] - 0s 2ms/step - loss: 0.4913 - accuracy: 0.7607 - val_loss: 0.6094 - val_accuracy: 0.7129\n",
      "Epoch 62/300\n",
      "20/20 [==============================] - 0s 2ms/step - loss: 0.4902 - accuracy: 0.7607 - val_loss: 0.9565 - val_accuracy: 0.6139\n",
      "Epoch 63/300\n",
      "20/20 [==============================] - 0s 2ms/step - loss: 0.5188 - accuracy: 0.7541 - val_loss: 0.5697 - val_accuracy: 0.6832\n",
      "Epoch 64/300\n",
      "20/20 [==============================] - 0s 2ms/step - loss: 0.5011 - accuracy: 0.7525 - val_loss: 0.5400 - val_accuracy: 0.7129\n",
      "Epoch 65/300\n",
      "20/20 [==============================] - 0s 2ms/step - loss: 0.4858 - accuracy: 0.7574 - val_loss: 0.5400 - val_accuracy: 0.7129\n",
      "Epoch 66/300\n",
      "20/20 [==============================] - 0s 2ms/step - loss: 0.5128 - accuracy: 0.7623 - val_loss: 0.7629 - val_accuracy: 0.5545\n",
      "Epoch 67/300\n",
      "20/20 [==============================] - 0s 2ms/step - loss: 0.5260 - accuracy: 0.7541 - val_loss: 0.6926 - val_accuracy: 0.6436\n",
      "Epoch 68/300\n",
      "20/20 [==============================] - 0s 2ms/step - loss: 0.5063 - accuracy: 0.7557 - val_loss: 0.6034 - val_accuracy: 0.6832\n",
      "Epoch 69/300\n",
      "20/20 [==============================] - 0s 2ms/step - loss: 0.4771 - accuracy: 0.7738 - val_loss: 0.7002 - val_accuracy: 0.6139\n",
      "Epoch 70/300\n",
      "20/20 [==============================] - 0s 2ms/step - loss: 0.5182 - accuracy: 0.7525 - val_loss: 0.4709 - val_accuracy: 0.7624\n",
      "Epoch 71/300\n",
      "20/20 [==============================] - 0s 2ms/step - loss: 0.4892 - accuracy: 0.7820 - val_loss: 0.6232 - val_accuracy: 0.6337\n",
      "Epoch 72/300\n",
      "20/20 [==============================] - 0s 2ms/step - loss: 0.4905 - accuracy: 0.7590 - val_loss: 0.8436 - val_accuracy: 0.6040\n",
      "Epoch 73/300\n",
      "20/20 [==============================] - 0s 2ms/step - loss: 0.5033 - accuracy: 0.7492 - val_loss: 0.5471 - val_accuracy: 0.7030\n",
      "Epoch 74/300\n",
      "20/20 [==============================] - 0s 2ms/step - loss: 0.5165 - accuracy: 0.7459 - val_loss: 0.4765 - val_accuracy: 0.7624\n",
      "Epoch 75/300\n",
      "20/20 [==============================] - 0s 2ms/step - loss: 0.4708 - accuracy: 0.7820 - val_loss: 0.5060 - val_accuracy: 0.7624\n",
      "Epoch 76/300\n",
      "20/20 [==============================] - 0s 2ms/step - loss: 0.4713 - accuracy: 0.7820 - val_loss: 0.5168 - val_accuracy: 0.7129\n",
      "Epoch 77/300\n",
      "20/20 [==============================] - 0s 2ms/step - loss: 0.4761 - accuracy: 0.7754 - val_loss: 0.4635 - val_accuracy: 0.7723\n",
      "Epoch 78/300\n",
      "20/20 [==============================] - 0s 2ms/step - loss: 0.4691 - accuracy: 0.7656 - val_loss: 0.7235 - val_accuracy: 0.6238\n",
      "Epoch 79/300\n",
      "20/20 [==============================] - 0s 2ms/step - loss: 0.4889 - accuracy: 0.7590 - val_loss: 0.4942 - val_accuracy: 0.7525\n",
      "Epoch 80/300\n",
      "20/20 [==============================] - 0s 2ms/step - loss: 0.4616 - accuracy: 0.7852 - val_loss: 0.6618 - val_accuracy: 0.6634\n",
      "Epoch 81/300\n",
      "20/20 [==============================] - 0s 2ms/step - loss: 0.4967 - accuracy: 0.7492 - val_loss: 0.5469 - val_accuracy: 0.6931\n",
      "Epoch 82/300\n",
      "20/20 [==============================] - 0s 2ms/step - loss: 0.4703 - accuracy: 0.7689 - val_loss: 0.4989 - val_accuracy: 0.7228\n",
      "Epoch 83/300\n",
      "20/20 [==============================] - 0s 2ms/step - loss: 0.4674 - accuracy: 0.7836 - val_loss: 0.6138 - val_accuracy: 0.6139\n",
      "Epoch 84/300\n",
      "20/20 [==============================] - 0s 2ms/step - loss: 0.4765 - accuracy: 0.7639 - val_loss: 0.4954 - val_accuracy: 0.7525\n",
      "Epoch 85/300\n",
      "20/20 [==============================] - 0s 2ms/step - loss: 0.4592 - accuracy: 0.7672 - val_loss: 0.5953 - val_accuracy: 0.6436\n",
      "Epoch 86/300\n",
      "20/20 [==============================] - 0s 2ms/step - loss: 0.4845 - accuracy: 0.7639 - val_loss: 0.6984 - val_accuracy: 0.6931\n",
      "Epoch 87/300\n",
      "20/20 [==============================] - 0s 2ms/step - loss: 0.4799 - accuracy: 0.7787 - val_loss: 0.5183 - val_accuracy: 0.7129\n",
      "Epoch 88/300\n",
      "20/20 [==============================] - 0s 2ms/step - loss: 0.4703 - accuracy: 0.7738 - val_loss: 0.7565 - val_accuracy: 0.5743\n",
      "Epoch 89/300\n",
      "20/20 [==============================] - 0s 2ms/step - loss: 0.5122 - accuracy: 0.7361 - val_loss: 0.6406 - val_accuracy: 0.6832\n",
      "Epoch 90/300\n",
      "20/20 [==============================] - 0s 2ms/step - loss: 0.4915 - accuracy: 0.7820 - val_loss: 0.5640 - val_accuracy: 0.7228\n",
      "Epoch 91/300\n",
      "20/20 [==============================] - 0s 2ms/step - loss: 0.4785 - accuracy: 0.7705 - val_loss: 0.5208 - val_accuracy: 0.7129\n",
      "Epoch 92/300\n",
      "20/20 [==============================] - 0s 2ms/step - loss: 0.4716 - accuracy: 0.7590 - val_loss: 0.6292 - val_accuracy: 0.6931\n",
      "Epoch 93/300\n",
      "20/20 [==============================] - 0s 2ms/step - loss: 0.4826 - accuracy: 0.7836 - val_loss: 0.5719 - val_accuracy: 0.7030\n",
      "Epoch 94/300\n",
      "20/20 [==============================] - 0s 2ms/step - loss: 0.4785 - accuracy: 0.7639 - val_loss: 0.5177 - val_accuracy: 0.7624\n",
      "Epoch 95/300\n",
      "20/20 [==============================] - 0s 2ms/step - loss: 0.4992 - accuracy: 0.7525 - val_loss: 0.4679 - val_accuracy: 0.8020\n",
      "Epoch 96/300\n",
      "20/20 [==============================] - 0s 2ms/step - loss: 0.4753 - accuracy: 0.7787 - val_loss: 0.6731 - val_accuracy: 0.6436\n",
      "Epoch 97/300\n",
      "20/20 [==============================] - 0s 2ms/step - loss: 0.4898 - accuracy: 0.7590 - val_loss: 0.6429 - val_accuracy: 0.7426\n",
      "Epoch 98/300\n",
      "20/20 [==============================] - 0s 2ms/step - loss: 0.4665 - accuracy: 0.7738 - val_loss: 0.9923 - val_accuracy: 0.6238\n",
      "Epoch 99/300\n",
      "20/20 [==============================] - 0s 2ms/step - loss: 0.5188 - accuracy: 0.7508 - val_loss: 0.4993 - val_accuracy: 0.7525\n",
      "Epoch 100/300\n",
      "20/20 [==============================] - 0s 2ms/step - loss: 0.4663 - accuracy: 0.7738 - val_loss: 0.7890 - val_accuracy: 0.7030\n",
      "Epoch 101/300\n",
      "20/20 [==============================] - 0s 2ms/step - loss: 0.4801 - accuracy: 0.7770 - val_loss: 0.7565 - val_accuracy: 0.6436\n",
      "Epoch 102/300\n",
      "20/20 [==============================] - 0s 2ms/step - loss: 0.4757 - accuracy: 0.7738 - val_loss: 0.5251 - val_accuracy: 0.7030\n",
      "Epoch 103/300\n",
      "20/20 [==============================] - 0s 2ms/step - loss: 0.4658 - accuracy: 0.7803 - val_loss: 0.4668 - val_accuracy: 0.7624\n",
      "Epoch 104/300\n",
      "20/20 [==============================] - 0s 2ms/step - loss: 0.4652 - accuracy: 0.7656 - val_loss: 0.5186 - val_accuracy: 0.7327\n",
      "Epoch 105/300\n",
      "20/20 [==============================] - 0s 2ms/step - loss: 0.4601 - accuracy: 0.7836 - val_loss: 0.5036 - val_accuracy: 0.7030\n",
      "Epoch 106/300\n",
      "20/20 [==============================] - 0s 2ms/step - loss: 0.4576 - accuracy: 0.7738 - val_loss: 0.4932 - val_accuracy: 0.7525\n",
      "Epoch 107/300\n",
      "20/20 [==============================] - 0s 2ms/step - loss: 0.4569 - accuracy: 0.7820 - val_loss: 0.5262 - val_accuracy: 0.7129\n",
      "Epoch 108/300\n",
      "20/20 [==============================] - 0s 2ms/step - loss: 0.4641 - accuracy: 0.7770 - val_loss: 0.5652 - val_accuracy: 0.7228\n",
      "Epoch 109/300\n",
      "20/20 [==============================] - 0s 2ms/step - loss: 0.4878 - accuracy: 0.7639 - val_loss: 0.5156 - val_accuracy: 0.7327\n",
      "Epoch 110/300\n",
      "20/20 [==============================] - 0s 2ms/step - loss: 0.4617 - accuracy: 0.7787 - val_loss: 0.4776 - val_accuracy: 0.7723\n",
      "Epoch 111/300\n",
      "20/20 [==============================] - 0s 2ms/step - loss: 0.4563 - accuracy: 0.7787 - val_loss: 0.5141 - val_accuracy: 0.7426\n",
      "Epoch 112/300\n",
      "20/20 [==============================] - 0s 2ms/step - loss: 0.4722 - accuracy: 0.7836 - val_loss: 0.5861 - val_accuracy: 0.7228\n",
      "Epoch 113/300\n",
      "20/20 [==============================] - 0s 2ms/step - loss: 0.4648 - accuracy: 0.7754 - val_loss: 0.6393 - val_accuracy: 0.6337\n",
      "Epoch 114/300\n",
      "20/20 [==============================] - 0s 2ms/step - loss: 0.4862 - accuracy: 0.7689 - val_loss: 0.7915 - val_accuracy: 0.6139\n",
      "Epoch 115/300\n",
      "20/20 [==============================] - 0s 2ms/step - loss: 0.5020 - accuracy: 0.7607 - val_loss: 0.5167 - val_accuracy: 0.7327\n",
      "Epoch 116/300\n"
     ]
    },
    {
     "name": "stdout",
     "output_type": "stream",
     "text": [
      "20/20 [==============================] - 0s 2ms/step - loss: 0.4680 - accuracy: 0.7689 - val_loss: 0.4785 - val_accuracy: 0.7525\n",
      "Epoch 117/300\n",
      "20/20 [==============================] - 0s 2ms/step - loss: 0.4743 - accuracy: 0.7639 - val_loss: 0.5480 - val_accuracy: 0.6733\n",
      "Epoch 118/300\n",
      "20/20 [==============================] - 0s 2ms/step - loss: 0.4782 - accuracy: 0.7754 - val_loss: 0.6389 - val_accuracy: 0.6634\n",
      "Epoch 119/300\n",
      "20/20 [==============================] - 0s 2ms/step - loss: 0.5050 - accuracy: 0.7607 - val_loss: 0.6067 - val_accuracy: 0.6733\n",
      "Epoch 120/300\n",
      "20/20 [==============================] - 0s 2ms/step - loss: 0.4746 - accuracy: 0.7721 - val_loss: 0.5043 - val_accuracy: 0.7723\n",
      "Epoch 121/300\n",
      "20/20 [==============================] - 0s 2ms/step - loss: 0.4731 - accuracy: 0.7721 - val_loss: 0.4476 - val_accuracy: 0.8119\n",
      "Epoch 122/300\n",
      "20/20 [==============================] - 0s 2ms/step - loss: 0.4700 - accuracy: 0.7902 - val_loss: 0.5165 - val_accuracy: 0.7327\n",
      "Epoch 123/300\n",
      "20/20 [==============================] - 0s 2ms/step - loss: 0.4638 - accuracy: 0.7836 - val_loss: 0.4803 - val_accuracy: 0.7525\n",
      "Epoch 124/300\n",
      "20/20 [==============================] - 0s 2ms/step - loss: 0.4554 - accuracy: 0.7787 - val_loss: 0.5392 - val_accuracy: 0.6931\n",
      "Epoch 125/300\n",
      "20/20 [==============================] - 0s 2ms/step - loss: 0.4657 - accuracy: 0.7869 - val_loss: 0.5394 - val_accuracy: 0.7525\n",
      "Epoch 126/300\n",
      "20/20 [==============================] - 0s 2ms/step - loss: 0.4557 - accuracy: 0.7803 - val_loss: 0.4780 - val_accuracy: 0.7723\n",
      "Epoch 127/300\n",
      "20/20 [==============================] - 0s 2ms/step - loss: 0.4566 - accuracy: 0.7721 - val_loss: 0.5175 - val_accuracy: 0.7426\n",
      "Epoch 128/300\n",
      "20/20 [==============================] - 0s 2ms/step - loss: 0.4512 - accuracy: 0.7885 - val_loss: 0.5614 - val_accuracy: 0.7228\n",
      "Epoch 129/300\n",
      "20/20 [==============================] - 0s 2ms/step - loss: 0.4637 - accuracy: 0.7623 - val_loss: 0.4935 - val_accuracy: 0.7426\n",
      "Epoch 130/300\n",
      "20/20 [==============================] - 0s 2ms/step - loss: 0.4610 - accuracy: 0.7787 - val_loss: 0.6436 - val_accuracy: 0.6832\n",
      "Epoch 131/300\n",
      "20/20 [==============================] - 0s 2ms/step - loss: 0.4568 - accuracy: 0.7836 - val_loss: 0.5475 - val_accuracy: 0.7129\n",
      "Epoch 132/300\n",
      "20/20 [==============================] - 0s 2ms/step - loss: 0.4569 - accuracy: 0.7754 - val_loss: 0.4801 - val_accuracy: 0.7723\n",
      "Epoch 133/300\n",
      "20/20 [==============================] - 0s 2ms/step - loss: 0.4468 - accuracy: 0.7836 - val_loss: 0.6042 - val_accuracy: 0.7129\n",
      "Epoch 134/300\n",
      "20/20 [==============================] - 0s 2ms/step - loss: 0.4677 - accuracy: 0.7639 - val_loss: 0.6703 - val_accuracy: 0.6832\n",
      "Epoch 135/300\n",
      "20/20 [==============================] - 0s 2ms/step - loss: 0.4660 - accuracy: 0.7656 - val_loss: 0.8700 - val_accuracy: 0.6337\n",
      "Epoch 136/300\n",
      "20/20 [==============================] - 0s 2ms/step - loss: 0.4656 - accuracy: 0.7607 - val_loss: 0.4658 - val_accuracy: 0.7822\n",
      "Epoch 137/300\n",
      "20/20 [==============================] - 0s 2ms/step - loss: 0.4473 - accuracy: 0.7836 - val_loss: 0.4697 - val_accuracy: 0.7624\n",
      "Epoch 138/300\n",
      "20/20 [==============================] - 0s 2ms/step - loss: 0.4424 - accuracy: 0.7820 - val_loss: 0.4880 - val_accuracy: 0.7228\n",
      "Epoch 139/300\n",
      "20/20 [==============================] - 0s 2ms/step - loss: 0.4478 - accuracy: 0.7754 - val_loss: 0.5500 - val_accuracy: 0.7030\n",
      "Epoch 140/300\n",
      "20/20 [==============================] - 0s 2ms/step - loss: 0.4479 - accuracy: 0.7738 - val_loss: 0.4679 - val_accuracy: 0.7822\n",
      "Epoch 141/300\n",
      "20/20 [==============================] - 0s 2ms/step - loss: 0.4412 - accuracy: 0.7869 - val_loss: 0.5295 - val_accuracy: 0.7723\n",
      "Epoch 142/300\n",
      "20/20 [==============================] - 0s 2ms/step - loss: 0.4506 - accuracy: 0.7934 - val_loss: 0.4819 - val_accuracy: 0.7426\n",
      "Epoch 143/300\n",
      "20/20 [==============================] - 0s 2ms/step - loss: 0.4491 - accuracy: 0.7738 - val_loss: 0.7491 - val_accuracy: 0.6436\n",
      "Epoch 144/300\n",
      "20/20 [==============================] - 0s 2ms/step - loss: 0.4843 - accuracy: 0.7770 - val_loss: 0.5590 - val_accuracy: 0.7030\n",
      "Epoch 145/300\n",
      "20/20 [==============================] - 0s 2ms/step - loss: 0.4610 - accuracy: 0.7885 - val_loss: 0.6005 - val_accuracy: 0.7327\n",
      "Epoch 146/300\n",
      "20/20 [==============================] - 0s 2ms/step - loss: 0.4681 - accuracy: 0.7770 - val_loss: 0.4578 - val_accuracy: 0.7822\n",
      "Epoch 147/300\n",
      "20/20 [==============================] - 0s 2ms/step - loss: 0.4571 - accuracy: 0.7803 - val_loss: 0.4925 - val_accuracy: 0.7129\n",
      "Epoch 148/300\n",
      "20/20 [==============================] - 0s 2ms/step - loss: 0.4600 - accuracy: 0.7672 - val_loss: 0.5745 - val_accuracy: 0.7327\n",
      "Epoch 149/300\n",
      "20/20 [==============================] - 0s 2ms/step - loss: 0.4740 - accuracy: 0.7885 - val_loss: 0.6294 - val_accuracy: 0.6832\n",
      "Epoch 150/300\n",
      "20/20 [==============================] - 0s 2ms/step - loss: 0.4558 - accuracy: 0.7803 - val_loss: 0.4713 - val_accuracy: 0.7921\n",
      "Epoch 151/300\n",
      "20/20 [==============================] - 0s 2ms/step - loss: 0.4498 - accuracy: 0.7787 - val_loss: 0.5108 - val_accuracy: 0.7228\n",
      "Epoch 152/300\n",
      "20/20 [==============================] - 0s 2ms/step - loss: 0.4618 - accuracy: 0.7672 - val_loss: 0.5116 - val_accuracy: 0.7426\n",
      "Epoch 153/300\n",
      "20/20 [==============================] - 0s 2ms/step - loss: 0.4491 - accuracy: 0.7820 - val_loss: 0.6828 - val_accuracy: 0.5842\n",
      "Epoch 154/300\n",
      "20/20 [==============================] - 0s 2ms/step - loss: 0.4681 - accuracy: 0.7689 - val_loss: 0.5462 - val_accuracy: 0.6931\n",
      "Epoch 155/300\n",
      "20/20 [==============================] - 0s 2ms/step - loss: 0.4658 - accuracy: 0.7787 - val_loss: 0.5933 - val_accuracy: 0.7129\n",
      "Epoch 156/300\n",
      "20/20 [==============================] - 0s 2ms/step - loss: 0.4751 - accuracy: 0.7738 - val_loss: 0.6226 - val_accuracy: 0.6931\n",
      "Epoch 157/300\n",
      "20/20 [==============================] - 0s 2ms/step - loss: 0.4513 - accuracy: 0.7738 - val_loss: 0.4607 - val_accuracy: 0.8020\n",
      "Epoch 158/300\n",
      "20/20 [==============================] - 0s 2ms/step - loss: 0.4571 - accuracy: 0.7803 - val_loss: 0.5889 - val_accuracy: 0.7129\n",
      "Epoch 159/300\n",
      "20/20 [==============================] - 0s 2ms/step - loss: 0.4799 - accuracy: 0.7803 - val_loss: 0.5054 - val_accuracy: 0.7426\n",
      "Epoch 160/300\n",
      "20/20 [==============================] - 0s 2ms/step - loss: 0.4840 - accuracy: 0.7656 - val_loss: 0.6650 - val_accuracy: 0.7228\n",
      "Epoch 161/300\n",
      "20/20 [==============================] - 0s 2ms/step - loss: 0.4726 - accuracy: 0.7787 - val_loss: 0.5636 - val_accuracy: 0.7327\n",
      "Epoch 162/300\n",
      "20/20 [==============================] - 0s 2ms/step - loss: 0.4629 - accuracy: 0.7787 - val_loss: 0.6853 - val_accuracy: 0.6832\n",
      "Epoch 163/300\n",
      "20/20 [==============================] - 0s 2ms/step - loss: 0.4796 - accuracy: 0.7607 - val_loss: 0.5905 - val_accuracy: 0.7030\n",
      "Epoch 164/300\n",
      "20/20 [==============================] - 0s 2ms/step - loss: 0.4563 - accuracy: 0.7967 - val_loss: 0.5145 - val_accuracy: 0.7525\n",
      "Epoch 165/300\n",
      "20/20 [==============================] - 0s 2ms/step - loss: 0.4492 - accuracy: 0.7918 - val_loss: 0.5472 - val_accuracy: 0.7624\n",
      "Epoch 166/300\n",
      "20/20 [==============================] - 0s 2ms/step - loss: 0.4463 - accuracy: 0.7967 - val_loss: 0.5111 - val_accuracy: 0.7525\n",
      "Epoch 167/300\n",
      "20/20 [==============================] - 0s 2ms/step - loss: 0.4482 - accuracy: 0.7852 - val_loss: 0.8783 - val_accuracy: 0.6634\n",
      "Epoch 168/300\n",
      "20/20 [==============================] - 0s 2ms/step - loss: 0.4667 - accuracy: 0.7820 - val_loss: 0.7057 - val_accuracy: 0.6832\n",
      "Epoch 169/300\n",
      "20/20 [==============================] - 0s 2ms/step - loss: 0.4585 - accuracy: 0.7754 - val_loss: 0.4758 - val_accuracy: 0.7921\n",
      "Epoch 170/300\n",
      "20/20 [==============================] - 0s 2ms/step - loss: 0.4407 - accuracy: 0.7967 - val_loss: 0.5827 - val_accuracy: 0.7426\n",
      "Epoch 171/300\n",
      "20/20 [==============================] - 0s 2ms/step - loss: 0.4413 - accuracy: 0.7984 - val_loss: 0.5199 - val_accuracy: 0.7426\n",
      "Epoch 172/300\n",
      "20/20 [==============================] - 0s 2ms/step - loss: 0.4480 - accuracy: 0.7738 - val_loss: 0.5643 - val_accuracy: 0.7723\n",
      "Epoch 173/300\n"
     ]
    },
    {
     "name": "stdout",
     "output_type": "stream",
     "text": [
      "20/20 [==============================] - 0s 2ms/step - loss: 0.4536 - accuracy: 0.7967 - val_loss: 0.6333 - val_accuracy: 0.7129\n",
      "Epoch 174/300\n",
      "20/20 [==============================] - 0s 2ms/step - loss: 0.4445 - accuracy: 0.7885 - val_loss: 0.5429 - val_accuracy: 0.7624\n",
      "Epoch 175/300\n",
      "20/20 [==============================] - 0s 2ms/step - loss: 0.4621 - accuracy: 0.7770 - val_loss: 0.7636 - val_accuracy: 0.5941\n",
      "Epoch 176/300\n",
      "20/20 [==============================] - 0s 2ms/step - loss: 0.4966 - accuracy: 0.7672 - val_loss: 0.6053 - val_accuracy: 0.7327\n",
      "Epoch 177/300\n",
      "20/20 [==============================] - 0s 2ms/step - loss: 0.4533 - accuracy: 0.7705 - val_loss: 0.5693 - val_accuracy: 0.7030\n",
      "Epoch 178/300\n",
      "20/20 [==============================] - 0s 2ms/step - loss: 0.4449 - accuracy: 0.7967 - val_loss: 0.4690 - val_accuracy: 0.8119\n",
      "Epoch 179/300\n",
      "20/20 [==============================] - 0s 2ms/step - loss: 0.4379 - accuracy: 0.7934 - val_loss: 0.4961 - val_accuracy: 0.8020\n",
      "Epoch 180/300\n",
      "20/20 [==============================] - 0s 2ms/step - loss: 0.4403 - accuracy: 0.7820 - val_loss: 0.5318 - val_accuracy: 0.7327\n",
      "Epoch 181/300\n",
      "20/20 [==============================] - 0s 2ms/step - loss: 0.4306 - accuracy: 0.7918 - val_loss: 0.5254 - val_accuracy: 0.7327\n",
      "Epoch 182/300\n",
      "20/20 [==============================] - 0s 2ms/step - loss: 0.4394 - accuracy: 0.7836 - val_loss: 0.4665 - val_accuracy: 0.7624\n",
      "Epoch 183/300\n",
      "20/20 [==============================] - 0s 2ms/step - loss: 0.4388 - accuracy: 0.7869 - val_loss: 0.5636 - val_accuracy: 0.7426\n",
      "Epoch 184/300\n",
      "20/20 [==============================] - 0s 2ms/step - loss: 0.4549 - accuracy: 0.7787 - val_loss: 0.6066 - val_accuracy: 0.6832\n",
      "Epoch 185/300\n",
      "20/20 [==============================] - 0s 2ms/step - loss: 0.4479 - accuracy: 0.7738 - val_loss: 0.5201 - val_accuracy: 0.6832\n",
      "Epoch 186/300\n",
      "20/20 [==============================] - 0s 2ms/step - loss: 0.4371 - accuracy: 0.7787 - val_loss: 0.5610 - val_accuracy: 0.7228\n",
      "Epoch 187/300\n",
      "20/20 [==============================] - 0s 2ms/step - loss: 0.4509 - accuracy: 0.7918 - val_loss: 0.4870 - val_accuracy: 0.7624\n",
      "Epoch 188/300\n",
      "20/20 [==============================] - 0s 2ms/step - loss: 0.4484 - accuracy: 0.7918 - val_loss: 0.5212 - val_accuracy: 0.7327\n",
      "Epoch 189/300\n",
      "20/20 [==============================] - 0s 2ms/step - loss: 0.4462 - accuracy: 0.8000 - val_loss: 0.5104 - val_accuracy: 0.7525\n",
      "Epoch 190/300\n",
      "20/20 [==============================] - 0s 2ms/step - loss: 0.4315 - accuracy: 0.8066 - val_loss: 0.5347 - val_accuracy: 0.7129\n",
      "Epoch 191/300\n",
      "20/20 [==============================] - 0s 2ms/step - loss: 0.4414 - accuracy: 0.7984 - val_loss: 0.4543 - val_accuracy: 0.7921\n",
      "Epoch 192/300\n",
      "20/20 [==============================] - 0s 2ms/step - loss: 0.4385 - accuracy: 0.7951 - val_loss: 0.5135 - val_accuracy: 0.7525\n",
      "Epoch 193/300\n",
      "20/20 [==============================] - 0s 2ms/step - loss: 0.4398 - accuracy: 0.7836 - val_loss: 0.4906 - val_accuracy: 0.7525\n",
      "Epoch 194/300\n",
      "20/20 [==============================] - 0s 2ms/step - loss: 0.4340 - accuracy: 0.7902 - val_loss: 0.4452 - val_accuracy: 0.7723\n",
      "Epoch 195/300\n",
      "20/20 [==============================] - 0s 2ms/step - loss: 0.4468 - accuracy: 0.7754 - val_loss: 0.5449 - val_accuracy: 0.6931\n",
      "Epoch 196/300\n",
      "20/20 [==============================] - 0s 2ms/step - loss: 0.4400 - accuracy: 0.7869 - val_loss: 0.5300 - val_accuracy: 0.7129\n",
      "Epoch 197/300\n",
      "20/20 [==============================] - 0s 2ms/step - loss: 0.4431 - accuracy: 0.7918 - val_loss: 0.4387 - val_accuracy: 0.7723\n",
      "Epoch 198/300\n",
      "20/20 [==============================] - 0s 2ms/step - loss: 0.4470 - accuracy: 0.7836 - val_loss: 0.4979 - val_accuracy: 0.7822\n",
      "Epoch 199/300\n",
      "20/20 [==============================] - 0s 2ms/step - loss: 0.4386 - accuracy: 0.7852 - val_loss: 0.6681 - val_accuracy: 0.6436\n",
      "Epoch 200/300\n",
      "20/20 [==============================] - 0s 2ms/step - loss: 0.4783 - accuracy: 0.7754 - val_loss: 0.4807 - val_accuracy: 0.7624\n",
      "Epoch 201/300\n",
      "20/20 [==============================] - 0s 2ms/step - loss: 0.4499 - accuracy: 0.7951 - val_loss: 0.5616 - val_accuracy: 0.7228\n",
      "Epoch 202/300\n",
      "20/20 [==============================] - 0s 2ms/step - loss: 0.4411 - accuracy: 0.7852 - val_loss: 0.4923 - val_accuracy: 0.7921\n",
      "Epoch 203/300\n",
      "20/20 [==============================] - 0s 2ms/step - loss: 0.4558 - accuracy: 0.7836 - val_loss: 0.6445 - val_accuracy: 0.6832\n",
      "Epoch 204/300\n",
      "20/20 [==============================] - 0s 2ms/step - loss: 0.4618 - accuracy: 0.7820 - val_loss: 0.5262 - val_accuracy: 0.7525\n",
      "Epoch 205/300\n",
      "20/20 [==============================] - 0s 2ms/step - loss: 0.4469 - accuracy: 0.7934 - val_loss: 0.4596 - val_accuracy: 0.7921\n",
      "Epoch 206/300\n",
      "20/20 [==============================] - 0s 2ms/step - loss: 0.4452 - accuracy: 0.7902 - val_loss: 0.4805 - val_accuracy: 0.7822\n",
      "Epoch 207/300\n",
      "20/20 [==============================] - 0s 2ms/step - loss: 0.4402 - accuracy: 0.8016 - val_loss: 0.4593 - val_accuracy: 0.7525\n",
      "Epoch 208/300\n",
      "20/20 [==============================] - 0s 2ms/step - loss: 0.4255 - accuracy: 0.8000 - val_loss: 0.6136 - val_accuracy: 0.7327\n",
      "Epoch 209/300\n",
      "20/20 [==============================] - 0s 2ms/step - loss: 0.4607 - accuracy: 0.8098 - val_loss: 0.5279 - val_accuracy: 0.7525\n",
      "Epoch 210/300\n",
      "20/20 [==============================] - 0s 2ms/step - loss: 0.4512 - accuracy: 0.7852 - val_loss: 0.6179 - val_accuracy: 0.7030\n",
      "Epoch 211/300\n",
      "20/20 [==============================] - 0s 2ms/step - loss: 0.4550 - accuracy: 0.7738 - val_loss: 0.5784 - val_accuracy: 0.7228\n",
      "Epoch 212/300\n",
      "20/20 [==============================] - 0s 2ms/step - loss: 0.4530 - accuracy: 0.7836 - val_loss: 0.5380 - val_accuracy: 0.7327\n",
      "Epoch 213/300\n",
      "20/20 [==============================] - 0s 2ms/step - loss: 0.4451 - accuracy: 0.7885 - val_loss: 0.6176 - val_accuracy: 0.7030\n",
      "Epoch 214/300\n",
      "20/20 [==============================] - 0s 2ms/step - loss: 0.4504 - accuracy: 0.7770 - val_loss: 0.6046 - val_accuracy: 0.7129\n",
      "Epoch 215/300\n",
      "20/20 [==============================] - 0s 2ms/step - loss: 0.4571 - accuracy: 0.7803 - val_loss: 2.1062 - val_accuracy: 0.5347\n",
      "Epoch 216/300\n",
      "20/20 [==============================] - 0s 2ms/step - loss: 0.5971 - accuracy: 0.7279 - val_loss: 0.5188 - val_accuracy: 0.7525\n",
      "Epoch 217/300\n",
      "20/20 [==============================] - 0s 2ms/step - loss: 0.4625 - accuracy: 0.7721 - val_loss: 0.4690 - val_accuracy: 0.8119\n",
      "Epoch 218/300\n",
      "20/20 [==============================] - 0s 2ms/step - loss: 0.4490 - accuracy: 0.7885 - val_loss: 0.4912 - val_accuracy: 0.7525\n",
      "Epoch 219/300\n",
      "20/20 [==============================] - 0s 2ms/step - loss: 0.4610 - accuracy: 0.7836 - val_loss: 0.5200 - val_accuracy: 0.7426\n",
      "Epoch 220/300\n",
      "20/20 [==============================] - 0s 2ms/step - loss: 0.4537 - accuracy: 0.7934 - val_loss: 0.4823 - val_accuracy: 0.7624\n",
      "Epoch 221/300\n",
      "20/20 [==============================] - 0s 2ms/step - loss: 0.4458 - accuracy: 0.7754 - val_loss: 0.5185 - val_accuracy: 0.7228\n",
      "Epoch 222/300\n",
      "20/20 [==============================] - 0s 2ms/step - loss: 0.4424 - accuracy: 0.8033 - val_loss: 0.4605 - val_accuracy: 0.7723\n",
      "Epoch 223/300\n",
      "20/20 [==============================] - 0s 2ms/step - loss: 0.4466 - accuracy: 0.7918 - val_loss: 0.9792 - val_accuracy: 0.5644\n",
      "Epoch 224/300\n",
      "20/20 [==============================] - 0s 2ms/step - loss: 0.5444 - accuracy: 0.7311 - val_loss: 0.9778 - val_accuracy: 0.5743\n",
      "Epoch 225/300\n",
      "20/20 [==============================] - 0s 2ms/step - loss: 0.5167 - accuracy: 0.7426 - val_loss: 0.6804 - val_accuracy: 0.6931\n",
      "Epoch 226/300\n",
      "20/20 [==============================] - 0s 2ms/step - loss: 0.4965 - accuracy: 0.7623 - val_loss: 0.5770 - val_accuracy: 0.6634\n",
      "Epoch 227/300\n",
      "20/20 [==============================] - 0s 2ms/step - loss: 0.4930 - accuracy: 0.7475 - val_loss: 0.4716 - val_accuracy: 0.7921\n",
      "Epoch 228/300\n",
      "20/20 [==============================] - 0s 2ms/step - loss: 0.4697 - accuracy: 0.7754 - val_loss: 0.5206 - val_accuracy: 0.7426\n",
      "Epoch 229/300\n",
      "20/20 [==============================] - 0s 2ms/step - loss: 0.4553 - accuracy: 0.7705 - val_loss: 0.5601 - val_accuracy: 0.7129\n",
      "Epoch 230/300\n"
     ]
    },
    {
     "name": "stdout",
     "output_type": "stream",
     "text": [
      "20/20 [==============================] - 0s 2ms/step - loss: 0.4610 - accuracy: 0.7836 - val_loss: 0.4858 - val_accuracy: 0.7723\n",
      "Epoch 231/300\n",
      "20/20 [==============================] - 0s 2ms/step - loss: 0.4539 - accuracy: 0.7984 - val_loss: 0.6293 - val_accuracy: 0.6139\n",
      "Epoch 232/300\n",
      "20/20 [==============================] - 0s 2ms/step - loss: 0.4660 - accuracy: 0.7738 - val_loss: 1.6253 - val_accuracy: 0.5743\n",
      "Epoch 233/300\n",
      "20/20 [==============================] - 0s 2ms/step - loss: 0.5537 - accuracy: 0.7607 - val_loss: 0.6192 - val_accuracy: 0.7327\n",
      "Epoch 234/300\n",
      "20/20 [==============================] - 0s 2ms/step - loss: 0.4921 - accuracy: 0.7705 - val_loss: 0.5739 - val_accuracy: 0.7327\n",
      "Epoch 235/300\n",
      "20/20 [==============================] - 0s 2ms/step - loss: 0.4687 - accuracy: 0.7803 - val_loss: 0.5345 - val_accuracy: 0.7228\n",
      "Epoch 236/300\n",
      "20/20 [==============================] - 0s 2ms/step - loss: 0.4691 - accuracy: 0.7738 - val_loss: 0.5166 - val_accuracy: 0.7525\n",
      "Epoch 237/300\n",
      "20/20 [==============================] - 0s 2ms/step - loss: 0.4655 - accuracy: 0.7869 - val_loss: 0.4755 - val_accuracy: 0.8020\n",
      "Epoch 238/300\n",
      "20/20 [==============================] - 0s 2ms/step - loss: 0.4762 - accuracy: 0.7820 - val_loss: 0.5723 - val_accuracy: 0.7129\n",
      "Epoch 239/300\n",
      "20/20 [==============================] - 0s 2ms/step - loss: 0.5057 - accuracy: 0.7574 - val_loss: 0.4716 - val_accuracy: 0.7525\n",
      "Epoch 240/300\n",
      "20/20 [==============================] - 0s 2ms/step - loss: 0.4632 - accuracy: 0.7902 - val_loss: 0.6359 - val_accuracy: 0.6535\n",
      "Epoch 241/300\n",
      "20/20 [==============================] - 0s 2ms/step - loss: 0.4708 - accuracy: 0.7770 - val_loss: 0.5179 - val_accuracy: 0.7426\n",
      "Epoch 242/300\n",
      "20/20 [==============================] - 0s 2ms/step - loss: 0.4470 - accuracy: 0.7951 - val_loss: 0.7946 - val_accuracy: 0.6535\n",
      "Epoch 243/300\n",
      "20/20 [==============================] - 0s 3ms/step - loss: 0.5141 - accuracy: 0.7705 - val_loss: 0.5283 - val_accuracy: 0.7822\n",
      "Epoch 244/300\n",
      "20/20 [==============================] - 0s 2ms/step - loss: 0.4594 - accuracy: 0.7869 - val_loss: 0.4745 - val_accuracy: 0.8119\n",
      "Epoch 245/300\n",
      "20/20 [==============================] - 0s 2ms/step - loss: 0.4610 - accuracy: 0.7869 - val_loss: 0.4922 - val_accuracy: 0.7822\n",
      "Epoch 246/300\n",
      "20/20 [==============================] - 0s 2ms/step - loss: 0.4558 - accuracy: 0.7869 - val_loss: 0.4724 - val_accuracy: 0.8020\n",
      "Epoch 247/300\n",
      "20/20 [==============================] - 0s 2ms/step - loss: 0.4505 - accuracy: 0.7918 - val_loss: 0.5250 - val_accuracy: 0.7525\n",
      "Epoch 248/300\n",
      "20/20 [==============================] - 0s 2ms/step - loss: 0.4462 - accuracy: 0.7902 - val_loss: 0.5032 - val_accuracy: 0.7921\n",
      "Epoch 249/300\n",
      "20/20 [==============================] - 0s 2ms/step - loss: 0.4531 - accuracy: 0.7705 - val_loss: 0.5121 - val_accuracy: 0.7327\n",
      "Epoch 250/300\n",
      "20/20 [==============================] - 0s 2ms/step - loss: 0.4397 - accuracy: 0.7852 - val_loss: 0.4705 - val_accuracy: 0.7921\n",
      "Epoch 251/300\n",
      "20/20 [==============================] - 0s 2ms/step - loss: 0.4416 - accuracy: 0.7902 - val_loss: 0.7468 - val_accuracy: 0.7228\n",
      "Epoch 252/300\n",
      "20/20 [==============================] - 0s 2ms/step - loss: 0.4717 - accuracy: 0.7820 - val_loss: 0.4953 - val_accuracy: 0.7921\n",
      "Epoch 253/300\n",
      "20/20 [==============================] - 0s 2ms/step - loss: 0.4461 - accuracy: 0.7869 - val_loss: 0.6206 - val_accuracy: 0.6535\n",
      "Epoch 254/300\n",
      "20/20 [==============================] - 0s 2ms/step - loss: 0.4687 - accuracy: 0.7803 - val_loss: 0.5738 - val_accuracy: 0.7327\n",
      "Epoch 255/300\n",
      "20/20 [==============================] - 0s 2ms/step - loss: 0.4685 - accuracy: 0.7770 - val_loss: 0.6522 - val_accuracy: 0.7030\n",
      "Epoch 256/300\n",
      "20/20 [==============================] - 0s 2ms/step - loss: 0.4862 - accuracy: 0.7803 - val_loss: 0.4693 - val_accuracy: 0.8218\n",
      "Epoch 257/300\n",
      "20/20 [==============================] - 0s 2ms/step - loss: 0.4431 - accuracy: 0.7967 - val_loss: 0.5310 - val_accuracy: 0.7426\n",
      "Epoch 258/300\n",
      "20/20 [==============================] - 0s 2ms/step - loss: 0.4577 - accuracy: 0.7852 - val_loss: 0.4758 - val_accuracy: 0.8020\n",
      "Epoch 259/300\n",
      "20/20 [==============================] - 0s 2ms/step - loss: 0.4371 - accuracy: 0.7852 - val_loss: 0.4750 - val_accuracy: 0.8020\n",
      "Epoch 260/300\n",
      "20/20 [==============================] - 0s 2ms/step - loss: 0.4318 - accuracy: 0.8000 - val_loss: 0.5323 - val_accuracy: 0.7525\n",
      "Epoch 261/300\n",
      "20/20 [==============================] - 0s 2ms/step - loss: 0.4360 - accuracy: 0.7951 - val_loss: 0.5037 - val_accuracy: 0.7525\n",
      "Epoch 262/300\n",
      "20/20 [==============================] - 0s 2ms/step - loss: 0.4320 - accuracy: 0.7951 - val_loss: 0.4965 - val_accuracy: 0.7624\n",
      "Epoch 263/300\n",
      "20/20 [==============================] - 0s 2ms/step - loss: 0.4380 - accuracy: 0.7984 - val_loss: 0.5009 - val_accuracy: 0.8020\n",
      "Epoch 264/300\n",
      "20/20 [==============================] - 0s 2ms/step - loss: 0.4414 - accuracy: 0.7852 - val_loss: 0.4848 - val_accuracy: 0.8020\n",
      "Epoch 265/300\n",
      "20/20 [==============================] - 0s 2ms/step - loss: 0.4355 - accuracy: 0.7885 - val_loss: 0.4830 - val_accuracy: 0.8119\n",
      "Epoch 266/300\n",
      "20/20 [==============================] - 0s 2ms/step - loss: 0.4289 - accuracy: 0.8016 - val_loss: 0.4856 - val_accuracy: 0.7723\n",
      "Epoch 267/300\n",
      "20/20 [==============================] - 0s 2ms/step - loss: 0.4271 - accuracy: 0.7951 - val_loss: 0.4574 - val_accuracy: 0.8218\n",
      "Epoch 268/300\n",
      "20/20 [==============================] - 0s 2ms/step - loss: 0.4317 - accuracy: 0.7934 - val_loss: 0.5366 - val_accuracy: 0.7921\n",
      "Epoch 269/300\n",
      "20/20 [==============================] - 0s 2ms/step - loss: 0.4396 - accuracy: 0.7836 - val_loss: 0.4769 - val_accuracy: 0.7723\n",
      "Epoch 270/300\n",
      "20/20 [==============================] - 0s 2ms/step - loss: 0.4325 - accuracy: 0.7984 - val_loss: 0.7915 - val_accuracy: 0.6634\n",
      "Epoch 271/300\n",
      "20/20 [==============================] - 0s 2ms/step - loss: 0.4505 - accuracy: 0.7869 - val_loss: 0.5517 - val_accuracy: 0.7525\n",
      "Epoch 272/300\n",
      "20/20 [==============================] - 0s 2ms/step - loss: 0.4384 - accuracy: 0.7852 - val_loss: 0.4400 - val_accuracy: 0.8119\n",
      "Epoch 273/300\n",
      "20/20 [==============================] - 0s 2ms/step - loss: 0.4330 - accuracy: 0.7918 - val_loss: 0.6934 - val_accuracy: 0.6040\n",
      "Epoch 274/300\n",
      "20/20 [==============================] - 0s 2ms/step - loss: 0.4499 - accuracy: 0.7721 - val_loss: 0.6137 - val_accuracy: 0.7525\n",
      "Epoch 275/300\n",
      "20/20 [==============================] - 0s 2ms/step - loss: 0.4664 - accuracy: 0.7852 - val_loss: 0.5857 - val_accuracy: 0.7525\n",
      "Epoch 276/300\n",
      "20/20 [==============================] - 0s 2ms/step - loss: 0.4618 - accuracy: 0.7656 - val_loss: 0.5704 - val_accuracy: 0.7129\n",
      "Epoch 277/300\n",
      "20/20 [==============================] - 0s 2ms/step - loss: 0.4477 - accuracy: 0.7803 - val_loss: 0.5213 - val_accuracy: 0.7228\n",
      "Epoch 278/300\n",
      "20/20 [==============================] - 0s 2ms/step - loss: 0.4419 - accuracy: 0.7803 - val_loss: 0.5251 - val_accuracy: 0.7030\n",
      "Epoch 279/300\n",
      "20/20 [==============================] - 0s 2ms/step - loss: 0.4449 - accuracy: 0.7738 - val_loss: 0.7938 - val_accuracy: 0.6931\n",
      "Epoch 280/300\n",
      "20/20 [==============================] - 0s 2ms/step - loss: 0.4888 - accuracy: 0.7492 - val_loss: 0.5622 - val_accuracy: 0.7129\n",
      "Epoch 281/300\n",
      "20/20 [==============================] - 0s 2ms/step - loss: 0.4498 - accuracy: 0.7934 - val_loss: 0.4788 - val_accuracy: 0.7822\n",
      "Epoch 282/300\n",
      "20/20 [==============================] - 0s 2ms/step - loss: 0.4384 - accuracy: 0.7820 - val_loss: 0.5543 - val_accuracy: 0.7228\n",
      "Epoch 283/300\n",
      "20/20 [==============================] - 0s 2ms/step - loss: 0.4406 - accuracy: 0.7902 - val_loss: 0.4574 - val_accuracy: 0.8119\n",
      "Epoch 284/300\n",
      "20/20 [==============================] - 0s 2ms/step - loss: 0.4573 - accuracy: 0.7836 - val_loss: 0.4417 - val_accuracy: 0.8416\n",
      "Epoch 285/300\n",
      "20/20 [==============================] - 0s 2ms/step - loss: 0.4355 - accuracy: 0.7918 - val_loss: 0.4196 - val_accuracy: 0.8020\n",
      "Epoch 286/300\n",
      "20/20 [==============================] - 0s 2ms/step - loss: 0.4368 - accuracy: 0.7934 - val_loss: 0.5223 - val_accuracy: 0.7426\n",
      "Epoch 287/300\n"
     ]
    },
    {
     "name": "stdout",
     "output_type": "stream",
     "text": [
      "20/20 [==============================] - 0s 2ms/step - loss: 0.4368 - accuracy: 0.7803 - val_loss: 0.4722 - val_accuracy: 0.7822\n",
      "Epoch 288/300\n",
      "20/20 [==============================] - 0s 2ms/step - loss: 0.4314 - accuracy: 0.7918 - val_loss: 0.6202 - val_accuracy: 0.6931\n",
      "Epoch 289/300\n",
      "20/20 [==============================] - 0s 2ms/step - loss: 0.4651 - accuracy: 0.7721 - val_loss: 0.4487 - val_accuracy: 0.8218\n",
      "Epoch 290/300\n",
      "20/20 [==============================] - 0s 2ms/step - loss: 0.4385 - accuracy: 0.7885 - val_loss: 0.4911 - val_accuracy: 0.7723\n",
      "Epoch 291/300\n",
      "20/20 [==============================] - 0s 2ms/step - loss: 0.4408 - accuracy: 0.7902 - val_loss: 0.5467 - val_accuracy: 0.7921\n",
      "Epoch 292/300\n",
      "20/20 [==============================] - 0s 2ms/step - loss: 0.4491 - accuracy: 0.7934 - val_loss: 0.5566 - val_accuracy: 0.7129\n",
      "Epoch 293/300\n",
      "20/20 [==============================] - 0s 2ms/step - loss: 0.4418 - accuracy: 0.7787 - val_loss: 0.9214 - val_accuracy: 0.6238\n",
      "Epoch 294/300\n",
      "20/20 [==============================] - 0s 2ms/step - loss: 0.4936 - accuracy: 0.7426 - val_loss: 0.4422 - val_accuracy: 0.8218\n",
      "Epoch 295/300\n",
      "20/20 [==============================] - 0s 2ms/step - loss: 0.4489 - accuracy: 0.7770 - val_loss: 0.5000 - val_accuracy: 0.7624\n",
      "Epoch 296/300\n",
      "20/20 [==============================] - 0s 2ms/step - loss: 0.4528 - accuracy: 0.7803 - val_loss: 0.4996 - val_accuracy: 0.7723\n",
      "Epoch 297/300\n",
      "20/20 [==============================] - 0s 2ms/step - loss: 0.4427 - accuracy: 0.7918 - val_loss: 0.4701 - val_accuracy: 0.7723\n",
      "Epoch 298/300\n",
      "20/20 [==============================] - 0s 2ms/step - loss: 0.4388 - accuracy: 0.7852 - val_loss: 0.5435 - val_accuracy: 0.7327\n",
      "Epoch 299/300\n",
      "20/20 [==============================] - 0s 2ms/step - loss: 0.4547 - accuracy: 0.7967 - val_loss: 0.4391 - val_accuracy: 0.8218\n",
      "Epoch 300/300\n",
      "20/20 [==============================] - 0s 2ms/step - loss: 0.4313 - accuracy: 0.7902 - val_loss: 0.6000 - val_accuracy: 0.6832\n"
     ]
    }
   ],
   "source": [
    "history = model.fit(X_train, y_train, epochs=300,\n",
    "                    validation_data=(X_valid, y_valid))"
   ]
  },
  {
   "cell_type": "code",
   "execution_count": 30,
   "metadata": {},
   "outputs": [
    {
     "name": "stdout",
     "output_type": "stream",
     "text": [
      "10/10 [==============================] - 0s 810us/step - loss: 0.5188 - accuracy: 0.7336\n"
     ]
    },
    {
     "data": {
      "text/plain": [
       "[0.5187554359436035, 0.7335526347160339]"
      ]
     },
     "execution_count": 30,
     "metadata": {},
     "output_type": "execute_result"
    }
   ],
   "source": [
    "# Check loss and accuracy on test dataset\n",
    "model.evaluate(X_test, y_test)"
   ]
  },
  {
   "cell_type": "code",
   "execution_count": 31,
   "metadata": {},
   "outputs": [
    {
     "data": {
      "image/png": "[encoded data removed]",
      "text/plain": [
       "<Figure size 576x360 with 1 Axes>"
      ]
     },
     "metadata": {
      "needs_background": "light"
     },
     "output_type": "display_data"
    }
   ],
   "source": [
    "pd.DataFrame(history.history).plot(figsize=(8, 5))\n",
    "plt.grid(True)\n",
    "plt.gca().set_ylim(0, 1)\n",
    "plt.show()"
   ]
  },
  {
   "cell_type": "code",
   "execution_count": 32,
   "metadata": {},
   "outputs": [
    {
     "data": {
      "text/plain": [
       "array([[0.61, 0.39],\n",
       "       [0.83, 0.17],\n",
       "       [0.79, 0.21],\n",
       "       [0.95, 0.05],\n",
       "       [0.05, 0.95]], dtype=float32)"
      ]
     },
     "execution_count": 32,
     "metadata": {},
     "output_type": "execute_result"
    }
   ],
   "source": [
    "# Each prediction is an array of 9 probabilities, which all add up to 1\n",
    "X_new = X_test[:5]\n",
    "y_proba = model.predict(X_new)\n",
    "y_proba.round(2)"
   ]
  },
  {
   "cell_type": "code",
   "execution_count": 33,
   "metadata": {
    "scrolled": true
   },
   "outputs": [
    {
     "data": {
      "image/png": "[encoded data removed]",
      "text/plain": [
       "<Figure size 1152x144 with 5 Axes>"
      ]
     },
     "metadata": {
      "needs_background": "light"
     },
     "output_type": "display_data"
    }
   ],
   "source": [
    "y_indexes = np.argmax(y_proba, axis=1)\n",
    "plot_train_data(X_new, y_indexes, start=0, count=30)"
   ]
  },
  {
   "cell_type": "code",
   "execution_count": 34,
   "metadata": {},
   "outputs": [],
   "source": [
    "# Save model\n",
    "# You can ignore the H5pyDeprecationWarning if you get it\n",
    "def save_model():\n",
    "    tfjs.converters.save_keras_model(model, \"../model\")"
   ]
  },
  {
   "cell_type": "code",
   "execution_count": 35,
   "metadata": {},
   "outputs": [],
   "source": [
    "def predict_color(rgb_color):\n",
    "    red, green, blue = rgb_color\n",
    "    color = np.array([[red, green, blue]])\n",
    "    probas = model.predict(color)\n",
    "    max_proba_index = np.argmax(probas, axis=1)\n",
    "    label = target_names[max_proba_index][0]\n",
    "    return { \"probas\": probas, \"label\": label }\n",
    "\n",
    "def plot_prediction(rgb_color):\n",
    "    label = predict_color(rgb_color)[\"label\"]\n",
    "    data = np.array([rgb_color]).reshape(1, 1, 3)\n",
    "    plt.imshow(data)\n",
    "    plt.axis('off')\n",
    "    plt.title(label, fontsize=12)\n",
    "    plt.show()"
   ]
  },
  {
   "cell_type": "code",
   "execution_count": 46,
   "metadata": {},
   "outputs": [
    {
     "data": {
      "image/png": "[encoded data removed]",
      "text/plain": [
       "<Figure size 432x288 with 1 Axes>"
      ]
     },
     "metadata": {
      "needs_background": "light"
     },
     "output_type": "display_data"
    }
   ],
   "source": [
    "plot_prediction((0, 122, 255))"
   ]
  },
  {
   "cell_type": "code",
   "execution_count": 38,
   "metadata": {
    "scrolled": true
   },
   "outputs": [
    {
     "data": {
      "image/png": "[encoded data removed]",
      "text/plain": [
       "<Figure size 432x288 with 1 Axes>"
      ]
     },
     "metadata": {
      "needs_background": "light"
     },
     "output_type": "display_data"
    }
   ],
   "source": [
    "plot_prediction((101, 196, 102))"
   ]
  },
  {
   "cell_type": "code",
   "execution_count": 39,
   "metadata": {},
   "outputs": [
    {
     "data": {
      "image/png": "[encoded data removed]",
      "text/plain": [
       "<Figure size 432x288 with 1 Axes>"
      ]
     },
     "metadata": {
      "needs_background": "light"
     },
     "output_type": "display_data"
    }
   ],
   "source": [
    "plot_prediction((87, 86, 207))"
   ]
  },
  {
   "cell_type": "code",
   "execution_count": 40,
   "metadata": {},
   "outputs": [
    {
     "data": {
      "image/png": "[encoded data removed]",
      "text/plain": [
       "<Figure size 432x288 with 1 Axes>"
      ]
     },
     "metadata": {
      "needs_background": "light"
     },
     "output_type": "display_data"
    }
   ],
   "source": [
    "plot_prediction((255, 149, 0))"
   ]
  },
  {
   "cell_type": "code",
   "execution_count": 41,
   "metadata": {},
   "outputs": [
    {
     "data": {
      "image/png": "[encoded data removed]",
      "text/plain": [
       "<Figure size 432x288 with 1 Axes>"
      ]
     },
     "metadata": {
      "needs_background": "light"
     },
     "output_type": "display_data"
    }
   ],
   "source": [
    "plot_prediction((255, 45, 85))"
   ]
  },
  {
   "cell_type": "code",
   "execution_count": 42,
   "metadata": {},
   "outputs": [
    {
     "data": {
      "image/png": "[encoded data removed]",
      "text/plain": [
       "<Figure size 432x288 with 1 Axes>"
      ]
     },
     "metadata": {
      "needs_background": "light"
     },
     "output_type": "display_data"
    }
   ],
   "source": [
    "plot_prediction((175, 82, 222))"
   ]
  },
  {
   "cell_type": "code",
   "execution_count": 43,
   "metadata": {},
   "outputs": [
    {
     "data": {
      "image/png": "[encoded data removed]",
      "text/plain": [
       "<Figure size 432x288 with 1 Axes>"
      ]
     },
     "metadata": {
      "needs_background": "light"
     },
     "output_type": "display_data"
    }
   ],
   "source": [
    "plot_prediction((255, 59, 48))"
   ]
  },
  {
   "cell_type": "code",
   "execution_count": 44,
   "metadata": {},
   "outputs": [
    {
     "data": {
      "image/png": "[encoded data removed]",
      "text/plain": [
       "<Figure size 432x288 with 1 Axes>"
      ]
     },
     "metadata": {
      "needs_background": "light"
     },
     "output_type": "display_data"
    }
   ],
   "source": [
    "plot_prediction((90, 200, 250))"
   ]
  },
  {
   "cell_type": "code",
   "execution_count": 45,
   "metadata": {},
   "outputs": [
    {
     "data": {
      "image/png": "[encoded data removed]",
      "text/plain": [
       "<Figure size 432x288 with 1 Axes>"
      ]
     },
     "metadata": {
      "needs_background": "light"
     },
     "output_type": "display_data"
    }
   ],
   "source": [
    "plot_prediction((255, 204, 0))"
   ]
  },
  {
   "cell_type": "code",
   "execution_count": null,
   "metadata": {},
   "outputs": [],
   "source": []
  }
 ],
 "metadata": {
  "kernelspec": {
   "display_name": "color-classifier",
   "language": "python",
   "name": "color-classifier"
  },
  "language_info": {
   "codemirror_mode": {
    "name": "ipython",
    "version": 3
   },
   "file_extension": ".py",
   "mimetype": "text/x-python",
   "name": "python",
   "nbconvert_exporter": "python",
   "pygments_lexer": "ipython3",
   "version": "3.8.6"
  }
 },
 "nbformat": 4,
 "nbformat_minor": 4
}
